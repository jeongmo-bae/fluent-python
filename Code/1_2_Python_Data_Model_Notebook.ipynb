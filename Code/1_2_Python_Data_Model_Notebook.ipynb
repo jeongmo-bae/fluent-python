{
 "cells": [
  {
   "cell_type": "markdown",
   "metadata": {},
   "source": [
    "### 2-2.문자열 표현 / 2-3.산술 연산자 / 2-4.사용자 정의형의 불리언 값"
   ]
  },
  {
   "cell_type": "code",
   "execution_count": 1,
   "metadata": {},
   "outputs": [],
   "source": [
    "from math import hypot\n",
    "\n",
    "class Vector:\n",
    "\n",
    "    def __init__(self, x=0, y=0):\n",
    "        self.x = x\n",
    "        self.y = y\n",
    "\n",
    "    # repr() 내장 메서드에 의해 호출되는 특별 메서드 // 객체를 문자열로 표현하기 위함 // __repr__ 이 구현되어있지 않으면 , Vector object at 0X00~~~ 로 출력됨\n",
    "    # Vector(x,y) 로 출력됨 // Vector('x','y') 로 표현되지 않게 하기위해 %r 사용\n",
    "    def __repr__(self):         \n",
    "        return 'Vector(%r, %r)' % (self.x, self.y)\n",
    "\n",
    "    def __abs__(self):\n",
    "        return hypot(self.x, self.y)\n",
    "\n",
    "    \n",
    "    def __bool__(self):\n",
    "        return bool(abs(self))\n",
    "    \n",
    "    #__add__ 와 __mul__ 은 피연산자를 변경하지 않고 새로운 Vector 객체를 반환하도록 짬 \n",
    "    #-> ** 중위 연산자는 의례적으로 피연산자를 변경하지 않도록 짜임 - 13장에서 자세히**\n",
    "    def __add__(self, other):\n",
    "        x = self.x + other.x\n",
    "        y = self.y + other.y\n",
    "        return Vector(x, y)\n",
    "\n",
    "    def __mul__(self, scalar):\n",
    "        return Vector(self.x * scalar, self.y * scalar)"
   ]
  },
  {
   "cell_type": "code",
   "execution_count": 6,
   "metadata": {},
   "outputs": [
    {
     "name": "stdout",
     "output_type": "stream",
     "text": [
      "5.0\n",
      "True\n"
     ]
    }
   ],
   "source": [
    "vec = Vector(1,0)\n",
    "oth = Vector(2,4)\n",
    "print(abs(vec+oth))     # __abs__()\n",
    "print(bool(vec))        # __bool__()"
   ]
  },
  {
   "cell_type": "code",
   "execution_count": null,
   "metadata": {},
   "outputs": [],
   "source": []
  },
  {
   "cell_type": "code",
   "execution_count": null,
   "metadata": {},
   "outputs": [],
   "source": []
  },
  {
   "cell_type": "code",
   "execution_count": null,
   "metadata": {},
   "outputs": [],
   "source": []
  }
 ],
 "metadata": {
  "kernelspec": {
   "display_name": "Python 3",
   "language": "python",
   "name": "python3"
  },
  "language_info": {
   "codemirror_mode": {
    "name": "ipython",
    "version": 3
   },
   "file_extension": ".py",
   "mimetype": "text/x-python",
   "name": "python",
   "nbconvert_exporter": "python",
   "pygments_lexer": "ipython3",
   "version": "3.9.6"
  }
 },
 "nbformat": 4,
 "nbformat_minor": 2
}
