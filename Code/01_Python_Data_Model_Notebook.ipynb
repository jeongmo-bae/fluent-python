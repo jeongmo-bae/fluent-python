{
 "cells": [
  {
   "cell_type": "markdown",
   "metadata": {},
   "source": [
    "# Chapter1 - Python Data Model - Notebook \n",
    "- note \n",
    "   - **collections.namedtuple()** <br>: 데이터 베이스의 레코드 처럼, 메서드를 가지지 않는 일련의 속성으로 구성된 클래스를 만들 수 있다. </br>\n",
    "   \n",
    "   - **\\_\\_len\\_\\_** <br>: \\_\\_len\\_\\_ 는 파이썬 클래스에서 정의할 수 있는 특별 메서드 중 하나로, 객체의 길이를 반환하는 데 사용됨. 내장 함수인 len()이 호출될 때 자동으로 호출됨.\n",
    " \n",
    "   \n",
    "   - **\\_\\_getitem\\_\\_** <br>: \\_\\_getitem\\_\\_ 는 객체가 인덱싱을 지원할 때 호출되는 특별 메서드 중 하나로, 객체가 인덱싱 연산자인 대괄호([])를 통해 접근될 때 호출됨\n"
   ]
  },
  {
   "cell_type": "code",
   "execution_count": 27,
   "metadata": {},
   "outputs": [],
   "source": [
    "import collections\n",
    "# collections 의 namedtuple 메서드 - 데이터 베이스의 레코드 처럼, 메서드를 가지지 않는 일련의 속성으로 구성된 클래스를 만들 수 있다.\n",
    "Card = collections.namedtuple('Card', ['rank', 'suit'])    \n",
    "\n"
   ]
  },
  {
   "cell_type": "code",
   "execution_count": 28,
   "metadata": {},
   "outputs": [],
   "source": [
    "# FrenchDeck class\n",
    "class FrenchDeck:\n",
    "    def __init__(self,ranks,suits):\n",
    "        self.ranks = ranks\n",
    "        self.suits = suits\n",
    "        self._cards = [Card(rank, suit) for suit in self.suits\n",
    "                                        for rank in self.ranks]\n",
    "\n",
    "    def __len__(self):\n",
    "        return len(self._cards)\n",
    "\n",
    "    def __getitem__(self, position):\n",
    "        return self._cards[position] \n"
   ]
  },
  {
   "cell_type": "code",
   "execution_count": 43,
   "metadata": {},
   "outputs": [
    {
     "name": "stdout",
     "output_type": "stream",
     "text": [
      "52\n",
      "52\n",
      "Card(rank='2', suit='spades')\n",
      "Card(rank='2', suit='spades')\n"
     ]
    }
   ],
   "source": [
    "ranks = [str(n) for n in range(2, 11)] + list('JQKA')\n",
    "suits = 'spades diamonds clubs hearts'.split()\n",
    "\n",
    "# deck 이란 객체는 FrenchDeck 인스턴스(클래스) 가 객체화 된 것.\n",
    "# deck 이란 객체의 길이나 요소를 반환할 때, 시퀀스 자료형의 (_cards) 의 길이와 요소를 반환 하도록 되어있으므로(FrenchDeck Class)\n",
    "# len() 함수와 [] 연산자가 사용될 수 있는것. \n",
    "\n",
    "deck = FrenchDeck(ranks, suits)\n",
    "\n",
    "print(deck.__len__())  # 특별 메서드 __len__ 직접 호출 \n",
    "print(len(deck))  # len() 함수 -> 특별 메서드 __len__ 호출\n",
    "print(deck.__getitem__(0)) # 특별 메서드 __getitem__ 직접 호출\n",
    "print(deck[0])  # 인덱싱 연산자 [] -> 특별 메서드 __getitem__ 호출\n",
    " "
   ]
  },
  {
   "cell_type": "code",
   "execution_count": 46,
   "metadata": {},
   "outputs": [
    {
     "data": {
      "text/plain": [
       "<__main__.FrenchDeck_1 at 0x1048512b0>"
      ]
     },
     "execution_count": 46,
     "metadata": {},
     "output_type": "execute_result"
    }
   ],
   "source": [
    "# __len__ 과 __getitem 이 없다면?  -> len() 과 []를 처리할 수 없겠지\n",
    "class FrenchDeck_1:\n",
    "    def __init__(self,ranks,suits):\n",
    "        self.ranks = ranks\n",
    "        self.suits = suits\n",
    "        self._cards = [Card(rank, suit) for suit in self.suits\n",
    "                                        for rank in self.ranks]\n",
    "deck_1 = FrenchDeck_1(ranks,suits)\n",
    "deck_1"
   ]
  },
  {
   "cell_type": "code",
   "execution_count": 50,
   "metadata": {},
   "outputs": [],
   "source": [
    "# len(deck_1)\n",
    "# >>> TypeError: object of type 'FrenchDeck_1' has no len()\n",
    "# deck_1[0]\n",
    "# >>> TypeError: 'FrenchDeck_1' object is not subscriptable"
   ]
  },
  {
   "cell_type": "code",
   "execution_count": null,
   "metadata": {},
   "outputs": [],
   "source": []
  },
  {
   "cell_type": "code",
   "execution_count": null,
   "metadata": {},
   "outputs": [],
   "source": []
  },
  {
   "cell_type": "code",
   "execution_count": null,
   "metadata": {},
   "outputs": [],
   "source": []
  },
  {
   "cell_type": "code",
   "execution_count": null,
   "metadata": {},
   "outputs": [],
   "source": []
  }
 ],
 "metadata": {
  "kernelspec": {
   "display_name": "Python 3",
   "language": "python",
   "name": "python3"
  },
  "language_info": {
   "codemirror_mode": {
    "name": "ipython",
    "version": 3
   },
   "file_extension": ".py",
   "mimetype": "text/x-python",
   "name": "python",
   "nbconvert_exporter": "python",
   "pygments_lexer": "ipython3",
   "version": "3.9.6"
  }
 },
 "nbformat": 4,
 "nbformat_minor": 2
}
