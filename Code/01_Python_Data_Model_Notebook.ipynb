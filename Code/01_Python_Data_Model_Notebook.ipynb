{
 "cells": [
  {
   "cell_type": "markdown",
   "metadata": {},
   "source": [
    "# Chapter1 - Python Data Model - Notebook \n"
   ]
  },
  {
   "cell_type": "markdown",
   "metadata": {},
   "source": [
    "### 2-1.Collection emulation\n",
    "- note \n",
    "   - **collections.namedtuple()** <br>: 데이터 베이스의 레코드 처럼, 메서드를 가지지 않는 일련의 속성으로 구성된 클래스를 만들 수 있다. </br>\n",
    "   \n",
    "   - **\\_\\_len\\_\\_** <br>: \\_\\_len\\_\\_ 는 파이썬 클래스에서 정의할 수 있는 특별 메서드 중 하나로, 객체의 길이를 반환하는 데 사용됨. 내장 함수인 len()이 호출될 때 자동으로 호출됨.\n",
    " \n",
    "   \n",
    "   - **\\_\\_getitem\\_\\_** <br>: \\_\\_getitem\\_\\_ 는 객체가 인덱싱을 지원할 때 호출되는 특별 메서드 중 하나로, 객체가 인덱싱 연산자인 대괄호([])를 통해 접근될 때 호출됨"
   ]
  },
  {
   "cell_type": "code",
   "execution_count": 27,
   "metadata": {},
   "outputs": [],
   "source": [
    "import collections\n",
    "# collections 의 namedtuple 메서드 - 데이터 베이스의 레코드 처럼, 메서드를 가지지 않는 일련의 속성으로 구성된 클래스를 만들 수 있다.\n",
    "Card = collections.namedtuple('Card', ['rank', 'suit'])    "
   ]
  },
  {
   "cell_type": "code",
   "execution_count": 28,
   "metadata": {},
   "outputs": [],
   "source": [
    "# FrenchDeck class\n",
    "class FrenchDeck:\n",
    "    def __init__(self,ranks,suits):\n",
    "        self.ranks = ranks\n",
    "        self.suits = suits\n",
    "        self._cards = [Card(rank, suit) for suit in self.suits\n",
    "                                        for rank in self.ranks]\n",
    "\n",
    "    def __len__(self):\n",
    "        return len(self._cards)\n",
    "\n",
    "    def __getitem__(self, position):\n",
    "        return self._cards[position] \n"
   ]
  },
  {
   "cell_type": "code",
   "execution_count": 43,
   "metadata": {},
   "outputs": [
    {
     "name": "stdout",
     "output_type": "stream",
     "text": [
      "52\n",
      "52\n",
      "Card(rank='2', suit='spades')\n",
      "Card(rank='2', suit='spades')\n"
     ]
    }
   ],
   "source": [
    "ranks = [str(n) for n in range(2, 11)] + list('JQKA')\n",
    "suits = 'spades diamonds clubs hearts'.split()\n",
    "\n",
    "# deck 이란 객체는 FrenchDeck 인스턴스(클래스) 가 객체화 된 것.\n",
    "# deck 이란 객체의 길이나 요소를 반환할 때,\n",
    "# 시퀀스 자료형의 (_cards) 의 길이와 요소를 반환 하도록 되어있으므로 => (FrenchDeck Class)self._cards에 그 작업을 위임\n",
    "# len() 함수와 [] 연산자가 사용될 수 있는것. \n",
    "\n",
    "deck = FrenchDeck(ranks, suits)\n",
    "\n",
    "print(deck.__len__())  # 특별 메서드 __len__ 직접 호출 \n",
    "print(len(deck))  # len() 함수 -> 특별 메서드 __len__ 호출\n",
    "print(deck.__getitem__(0)) # 특별 메서드 __getitem__ 직접 호출\n",
    "print(deck[0])  # 인덱싱 연산자 [] -> 특별 메서드 __getitem__ 호출\n",
    " "
   ]
  },
  {
   "cell_type": "code",
   "execution_count": 56,
   "metadata": {},
   "outputs": [
    {
     "data": {
      "text/plain": [
       "<__main__.FrenchDeck_1 at 0x104cae520>"
      ]
     },
     "execution_count": 56,
     "metadata": {},
     "output_type": "execute_result"
    }
   ],
   "source": [
    "# __len__ 과 __getitem__ 이 없다면?  -> len() 과 []를 처리할 수 없겠지\n",
    "class FrenchDeck_1:\n",
    "    def __init__(self,ranks,suits):\n",
    "        self.ranks = ranks\n",
    "        self.suits = suits\n",
    "        self._cards = [Card(rank, suit) for suit in self.suits\n",
    "                                        for rank in self.ranks]\n",
    "#    def __len__(self):\n",
    "#        return len(self._cards)\n",
    "#    def __getitem__(self, position):\n",
    "#        return self._cards[position]    \n",
    "\n",
    "deck_1 = FrenchDeck_1(ranks,suits)\n",
    "deck_1"
   ]
  },
  {
   "cell_type": "code",
   "execution_count": 59,
   "metadata": {},
   "outputs": [
    {
     "ename": "TypeError",
     "evalue": "'FrenchDeck_1' object is not subscriptable",
     "output_type": "error",
     "traceback": [
      "\u001b[0;31m---------------------------------------------------------------------------\u001b[0m",
      "\u001b[0;31mTypeError\u001b[0m                                 Traceback (most recent call last)",
      "Cell \u001b[0;32mIn[59], line 3\u001b[0m\n\u001b[1;32m      1\u001b[0m \u001b[38;5;66;03m# len(deck_1)\u001b[39;00m\n\u001b[1;32m      2\u001b[0m \u001b[38;5;66;03m# >>> TypeError: object of type 'FrenchDeck_1' has no len()\u001b[39;00m\n\u001b[0;32m----> 3\u001b[0m \u001b[43mdeck_1\u001b[49m\u001b[43m[\u001b[49m\u001b[38;5;241;43m0\u001b[39;49m\u001b[43m]\u001b[49m\n\u001b[1;32m      4\u001b[0m \u001b[38;5;66;03m# >>> TypeError: 'FrenchDeck_1' object is not subscriptable\u001b[39;00m\n",
      "\u001b[0;31mTypeError\u001b[0m: 'FrenchDeck_1' object is not subscriptable"
     ]
    }
   ],
   "source": [
    "# len(deck_1)\n",
    "# >>> TypeError: object of type 'FrenchDeck_1' has no len()\n",
    "# deck_1[0]\n",
    "# >>> TypeError: 'FrenchDeck_1' object is not subscriptable"
   ]
  },
  {
   "cell_type": "code",
   "execution_count": 60,
   "metadata": {},
   "outputs": [
    {
     "ename": "TypeError",
     "evalue": "'FrenchDeck_1' object is not subscriptable",
     "output_type": "error",
     "traceback": [
      "\u001b[0;31m---------------------------------------------------------------------------\u001b[0m",
      "\u001b[0;31mTypeError\u001b[0m                                 Traceback (most recent call last)",
      "Cell \u001b[0;32mIn[60], line 6\u001b[0m\n\u001b[1;32m      3\u001b[0m choice(deck)\n\u001b[1;32m      5\u001b[0m \u001b[38;5;66;03m# deck_1 은 당연히 안되겠지 \u001b[39;00m\n\u001b[0;32m----> 6\u001b[0m \u001b[43mchoice\u001b[49m\u001b[43m(\u001b[49m\u001b[43mdeck_1\u001b[49m\u001b[43m)\u001b[49m\n\u001b[1;32m      7\u001b[0m \u001b[38;5;124;03m'''\u001b[39;00m\n\u001b[1;32m      8\u001b[0m \u001b[38;5;124;03mTypeError                                 Traceback (most recent call last)\u001b[39;00m\n\u001b[1;32m      9\u001b[0m \u001b[38;5;124;03mCell In[53], line 6\u001b[39;00m\n\u001b[0;32m   (...)\u001b[0m\n\u001b[1;32m     20\u001b[0m \u001b[38;5;124;03mTypeError: object of type 'FrenchDeck_1' has no len()\u001b[39;00m\n\u001b[1;32m     21\u001b[0m \u001b[38;5;124;03m'''\u001b[39;00m\n\u001b[1;32m     22\u001b[0m \u001b[38;5;66;03m# 에러 메시지를 보면, index 에러가 남 -> len(deck_1) 이 안되기 때문이다. \u001b[39;00m\n\u001b[1;32m     23\u001b[0m \u001b[38;5;66;03m# 그럼 __len__() 메서드만 추가하면 될까?\u001b[39;00m\n\u001b[1;32m     24\u001b[0m \u001b[38;5;66;03m# 당연히 안되지 -> 왜냐면, \u001b[39;00m\n\u001b[1;32m     25\u001b[0m \u001b[38;5;66;03m# --> 346 return seq[self._randbelow(len(seq))] 여길 보면, 결국 seq(deck_1)을 인덱싱 해야해 -> __getitem__ 메서드를 호출하겠지\u001b[39;00m\n\u001b[1;32m     26\u001b[0m \u001b[38;5;66;03m# __getitem__() 메서드도 추가 돼야 가능하단 뜻!\u001b[39;00m\n",
      "File \u001b[0;32m/Library/Developer/CommandLineTools/Library/Frameworks/Python3.framework/Versions/3.9/lib/python3.9/random.py:346\u001b[0m, in \u001b[0;36mRandom.choice\u001b[0;34m(self, seq)\u001b[0m\n\u001b[1;32m    344\u001b[0m \u001b[38;5;250m\u001b[39m\u001b[38;5;124;03m\"\"\"Choose a random element from a non-empty sequence.\"\"\"\u001b[39;00m\n\u001b[1;32m    345\u001b[0m \u001b[38;5;66;03m# raises IndexError if seq is empty\u001b[39;00m\n\u001b[0;32m--> 346\u001b[0m \u001b[38;5;28;01mreturn\u001b[39;00m \u001b[43mseq\u001b[49m\u001b[43m[\u001b[49m\u001b[38;5;28;43mself\u001b[39;49m\u001b[38;5;241;43m.\u001b[39;49m\u001b[43m_randbelow\u001b[49m\u001b[43m(\u001b[49m\u001b[38;5;28;43mlen\u001b[39;49m\u001b[43m(\u001b[49m\u001b[43mseq\u001b[49m\u001b[43m)\u001b[49m\u001b[43m)\u001b[49m\u001b[43m]\u001b[49m\n",
      "\u001b[0;31mTypeError\u001b[0m: 'FrenchDeck_1' object is not subscriptable"
     ]
    }
   ],
   "source": [
    "# 시퀀스 자료형에서 요소를 무작위로 추출하는 메서드 있음 random.choice()\n",
    "from random import choice\n",
    "choice(deck)\n",
    "\n",
    "# deck_1 은 당연히 안되겠지 \n",
    "choice(deck_1)\n",
    "'''\n",
    "TypeError                                 Traceback (most recent call last)\n",
    "Cell In[53], line 6\n",
    "      3 choice(deck)\n",
    "      5 # deck_1 은 안되겠지\n",
    "----> 6 choice(deck_1)\n",
    "\n",
    "File /Library/Developer/CommandLineTools/Library/Frameworks/Python3.framework/Versions/3.9/lib/python3.9/random.py:346,\n",
    "in Random.choice(self, seq)\n",
    "    344 \"\"\"Choose a random element from a non-empty sequence.\"\"\"\n",
    "    345 # raises IndexError if seq is empty\n",
    "--> 346 return seq[self._randbelow(len(seq))]\n",
    "\n",
    "TypeError: object of type 'FrenchDeck_1' has no len()\n",
    "'''\n",
    "# 에러 메시지를 보면, index 에러가 남 -> len(deck_1) 이 안되기 때문이다. \n",
    "# 그럼 __len__() 메서드만 추가하면 될까?\n",
    "# 당연히 안되지 -> 왜냐면, \n",
    "# --> 346 return seq[self._randbelow(len(seq))] 여길 보면, 결국 seq(deck_1)을 인덱싱 해야해 -> __getitem__ 메서드를 호출하겠지\n",
    "# __getitem__() 메서드도 추가 돼야 가능하단 뜻!\n",
    "'''\n",
    "__len__() 메서드만 추가해서 실행하면 결국 에러나는 것 확인할 수 있음\n",
    "--> 346 return seq[self._randbelow(len(seq))]\n",
    "\n",
    "TypeError: 'FrenchDeck_1' object is not subscriptable\n",
    "'''"
   ]
  },
  {
   "cell_type": "code",
   "execution_count": 80,
   "metadata": {},
   "outputs": [
    {
     "name": "stdout",
     "output_type": "stream",
     "text": [
      "['2', '3', '4', '5', '6', '7', '8', '9', '10', 'J', 'Q', 'K', 'A']\n",
      "['spades', 'diamonds', 'clubs', 'hearts']\n"
     ]
    }
   ],
   "source": [
    "print(ranks)\n",
    "print(suits)"
   ]
  },
  {
   "cell_type": "code",
   "execution_count": 81,
   "metadata": {},
   "outputs": [],
   "source": [
    "suit_values = dict(spades=3, hearts=2, diamonds=1, clubs=0)\n",
    "def spades_high(card):\n",
    "    rank_value = FrenchDeck(ranks,suits).ranks.index(card.rank)\n",
    "    return rank_value * len(suit_values) + suit_values[card.suit]"
   ]
  },
  {
   "cell_type": "code",
   "execution_count": 92,
   "metadata": {},
   "outputs": [
    {
     "name": "stdout",
     "output_type": "stream",
     "text": [
      "0 Card(rank='2', suit='clubs')\n",
      "1 Card(rank='2', suit='diamonds')\n",
      "2 Card(rank='2', suit='hearts')\n",
      "3 Card(rank='2', suit='spades')\n",
      "4 Card(rank='3', suit='clubs')\n",
      "5 Card(rank='3', suit='diamonds')\n",
      "6 Card(rank='3', suit='hearts')\n",
      "7 Card(rank='3', suit='spades')\n",
      "8 Card(rank='4', suit='clubs')\n",
      "9 Card(rank='4', suit='diamonds')\n",
      "10 Card(rank='4', suit='hearts')\n",
      "11 Card(rank='4', suit='spades')\n",
      "12 Card(rank='5', suit='clubs')\n",
      "13 Card(rank='5', suit='diamonds')\n",
      "14 Card(rank='5', suit='hearts')\n",
      "15 Card(rank='5', suit='spades')\n",
      "16 Card(rank='6', suit='clubs')\n",
      "17 Card(rank='6', suit='diamonds')\n",
      "18 Card(rank='6', suit='hearts')\n",
      "19 Card(rank='6', suit='spades')\n",
      "20 Card(rank='7', suit='clubs')\n",
      "21 Card(rank='7', suit='diamonds')\n",
      "22 Card(rank='7', suit='hearts')\n",
      "23 Card(rank='7', suit='spades')\n",
      "24 Card(rank='8', suit='clubs')\n",
      "25 Card(rank='8', suit='diamonds')\n",
      "26 Card(rank='8', suit='hearts')\n",
      "27 Card(rank='8', suit='spades')\n",
      "28 Card(rank='9', suit='clubs')\n",
      "29 Card(rank='9', suit='diamonds')\n",
      "30 Card(rank='9', suit='hearts')\n",
      "31 Card(rank='9', suit='spades')\n",
      "32 Card(rank='10', suit='clubs')\n",
      "33 Card(rank='10', suit='diamonds')\n",
      "34 Card(rank='10', suit='hearts')\n",
      "35 Card(rank='10', suit='spades')\n",
      "36 Card(rank='J', suit='clubs')\n",
      "37 Card(rank='J', suit='diamonds')\n",
      "38 Card(rank='J', suit='hearts')\n",
      "39 Card(rank='J', suit='spades')\n",
      "40 Card(rank='Q', suit='clubs')\n",
      "41 Card(rank='Q', suit='diamonds')\n",
      "42 Card(rank='Q', suit='hearts')\n",
      "43 Card(rank='Q', suit='spades')\n",
      "44 Card(rank='K', suit='clubs')\n",
      "45 Card(rank='K', suit='diamonds')\n",
      "46 Card(rank='K', suit='hearts')\n",
      "47 Card(rank='K', suit='spades')\n",
      "48 Card(rank='A', suit='clubs')\n",
      "49 Card(rank='A', suit='diamonds')\n",
      "50 Card(rank='A', suit='hearts')\n",
      "51 Card(rank='A', suit='spades')\n"
     ]
    }
   ],
   "source": [
    "for card in sorted(deck, key=spades_high):\n",
    "    print(spades_high(card),card)\n",
    "    "
   ]
  },
  {
   "cell_type": "markdown",
   "metadata": {},
   "source": [
    "### 2-2.문자열 표현\n",
    "### 2-3.산술 연산자\n",
    "### 2-4.사용자 정의형의 불리언 값"
   ]
  },
  {
   "cell_type": "code",
   "execution_count": 7,
   "metadata": {},
   "outputs": [],
   "source": [
    "from math import hypot\n",
    "\n",
    "class Vector:\n",
    "\n",
    "    def __init__(self, x=0, y=0):\n",
    "        self.x = x\n",
    "        self.y = y\n",
    "\n",
    "    # repr() 내장 메서드에 의해 호출되는 특별 메서드 // 객체를 문자열로 표현하기 위함 // __repr__ 이 구현되어있지 않으면 , Vector object at 0X00~~~ 로 출력됨\n",
    "    # Vector(x,y) 로 출력됨 // Vector('x','y') 로 표현되지 않게 하기위해 %r 사용\n",
    "    def __repr__(self):         \n",
    "        return 'Vector(%r, %r)' % (self.x, self.y)\n",
    "\n",
    "    def __abs__(self):\n",
    "        return hypot(self.x, self.y)\n",
    "\n",
    "    \n",
    "    def __bool__(self):\n",
    "        return bool(abs(self))\n",
    "    \n",
    "    #__add__ 와 __mul__ 은 피연산자를 변경하지 않고 새로운 Vector 객체를 반환하도록 짬 \n",
    "    #-> ** 중위 연산자는 의례적으로 피연산자를 변경하지 않도록 짜임 - 13장에서 자세히**\n",
    "    def __add__(self, other):\n",
    "        x = self.x + other.x\n",
    "        y = self.y + other.y\n",
    "        return Vector(x, y)\n",
    "\n",
    "    def __mul__(self, scalar):\n",
    "        return Vector(self.x * scalar, self.y * scalar)"
   ]
  },
  {
   "cell_type": "code",
   "execution_count": 12,
   "metadata": {},
   "outputs": [
    {
     "name": "stdout",
     "output_type": "stream",
     "text": [
      "Vector(0, 0)\n",
      "4.242640687119286\n",
      "False\n",
      "True\n"
     ]
    }
   ],
   "source": [
    "vec = Vector()\n",
    "oth = Vector(3,3)\n",
    "print(vec)\n",
    "print(abs(vec+oth))\n",
    "print(bool(vec))\n",
    "print(bool(oth))"
   ]
  },
  {
   "cell_type": "code",
   "execution_count": 6,
   "metadata": {},
   "outputs": [
    {
     "data": {
      "text/plain": [
       "Vector(0, 0)"
      ]
     },
     "execution_count": 6,
     "metadata": {},
     "output_type": "execute_result"
    }
   ],
   "source": [
    "vec+oth \n",
    "vec"
   ]
  },
  {
   "cell_type": "code",
   "execution_count": null,
   "metadata": {},
   "outputs": [],
   "source": []
  }
 ],
 "metadata": {
  "kernelspec": {
   "display_name": "Python 3",
   "language": "python",
   "name": "python3"
  },
  "language_info": {
   "codemirror_mode": {
    "name": "ipython",
    "version": 3
   },
   "file_extension": ".py",
   "mimetype": "text/x-python",
   "name": "python",
   "nbconvert_exporter": "python",
   "pygments_lexer": "ipython3",
   "version": "3.9.6"
  }
 },
 "nbformat": 4,
 "nbformat_minor": 2
}
